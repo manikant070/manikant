{
  "nbformat": 4,
  "nbformat_minor": 0,
  "metadata": {
    "colab": {
      "provenance": [],
      "authorship_tag": "ABX9TyPHBlaE4NefJ6sOxMVKNT9v",
      "include_colab_link": true
    },
    "kernelspec": {
      "name": "python3",
      "display_name": "Python 3"
    },
    "language_info": {
      "name": "python"
    }
  },
  "cells": [
    {
      "cell_type": "markdown",
      "metadata": {
        "id": "view-in-github",
        "colab_type": "text"
      },
      "source": [
        "<a href=\"https://colab.research.google.com/github/manikant070/manikant/blob/main/python10.ipynb\" target=\"_parent\"><img src=\"https://colab.research.google.com/assets/colab-badge.svg\" alt=\"Open In Colab\"/></a>"
      ]
    },
    {
      "cell_type": "code",
      "execution_count": null,
      "metadata": {
        "colab": {
          "base_uri": "https://localhost:8080/"
        },
        "id": "sTB9VxkHnqsb",
        "outputId": "9920dfe4-b06b-4935-d6b5-553565f062d3"
      },
      "outputs": [
        {
          "output_type": "stream",
          "name": "stdout",
          "text": [
            "hello\n",
            "hello\n",
            "hello\n",
            "hello\n",
            "hello\n"
          ]
        }
      ],
      "source": [
        "for i in range(1,6):\n",
        "  print(\"hello\")"
      ]
    },
    {
      "cell_type": "code",
      "source": [
        "x = 10\n",
        "while x<600:\n",
        "  print(\"yes\")\n",
        "  x = x+100"
      ],
      "metadata": {
        "colab": {
          "base_uri": "https://localhost:8080/"
        },
        "id": "Nyzng4e9ok4s",
        "outputId": "d2e197c0-9974-42e8-9544-2d36e7581e26"
      },
      "execution_count": null,
      "outputs": [
        {
          "output_type": "stream",
          "name": "stdout",
          "text": [
            "yes\n",
            "yes\n",
            "yes\n",
            "yes\n",
            "yes\n",
            "yes\n"
          ]
        }
      ]
    },
    {
      "cell_type": "code",
      "source": [
        "d = [40,20,80,50,30,60,90]\n",
        "d"
      ],
      "metadata": {
        "colab": {
          "base_uri": "https://localhost:8080/"
        },
        "id": "xUsAa9xipmtJ",
        "outputId": "07e6e7d9-e272-420c-eb91-f8d03e149d4b"
      },
      "execution_count": null,
      "outputs": [
        {
          "output_type": "execute_result",
          "data": {
            "text/plain": [
              "[40, 20, 80, 50, 30, 60, 90]"
            ]
          },
          "metadata": {},
          "execution_count": 8
        }
      ]
    },
    {
      "cell_type": "code",
      "source": [
        "for i in d:\n",
        "  print(i*85)"
      ],
      "metadata": {
        "colab": {
          "base_uri": "https://localhost:8080/"
        },
        "id": "zdA3PxdOrtl6",
        "outputId": "1b7bc273-4742-420c-845c-193596d11345"
      },
      "execution_count": null,
      "outputs": [
        {
          "output_type": "stream",
          "name": "stdout",
          "text": [
            "3400\n",
            "1700\n",
            "6800\n",
            "4250\n",
            "2550\n",
            "5100\n",
            "7650\n"
          ]
        }
      ]
    },
    {
      "cell_type": "code",
      "source": [
        "dollers = [25,36,95,24,12,6,5,84,5]\n",
        "ruppes = []\n",
        "for i in dollers:\n",
        "  ruppes.append(i*85)\n",
        "ruppes"
      ],
      "metadata": {
        "colab": {
          "base_uri": "https://localhost:8080/"
        },
        "id": "JXxApgDksXmF",
        "outputId": "8c3e1cd2-79d3-41fe-a672-635d1c084cf7"
      },
      "execution_count": null,
      "outputs": [
        {
          "output_type": "execute_result",
          "data": {
            "text/plain": [
              "[2125, 3060, 8075, 2040, 1020, 510, 425, 7140, 425]"
            ]
          },
          "metadata": {},
          "execution_count": 14
        }
      ]
    },
    {
      "cell_type": "code",
      "source": [
        "num = [31,45,66,33,90,78,67,87,89,93,25,59,9,81]\n",
        "num"
      ],
      "metadata": {
        "colab": {
          "base_uri": "https://localhost:8080/"
        },
        "id": "6MIyAraqtRjf",
        "outputId": "b66eab26-bb8c-4554-c7f7-af5930583044"
      },
      "execution_count": null,
      "outputs": [
        {
          "output_type": "execute_result",
          "data": {
            "text/plain": [
              "[31, 45, 66, 33, 90, 78, 67, 87, 89, 93, 25, 59, 9, 81]"
            ]
          },
          "metadata": {},
          "execution_count": 15
        }
      ]
    },
    {
      "cell_type": "code",
      "source": [
        "even = []\n",
        "odd = []\n",
        "for i in num:\n",
        "  if i%2==0:\n",
        "    even.append(i)\n",
        "  else:\n",
        "    odd.append(i)\n",
        "print(even)\n",
        "print(odd)"
      ],
      "metadata": {
        "id": "PKbCW_o6uqtx",
        "colab": {
          "base_uri": "https://localhost:8080/"
        },
        "outputId": "b4000743-7b76-4775-e801-df2573edc4a1"
      },
      "execution_count": 20,
      "outputs": [
        {
          "output_type": "stream",
          "name": "stdout",
          "text": [
            "[66, 90, 78]\n",
            "[31, 45, 33, 67, 87, 89, 93, 25, 59, 9, 81]\n"
          ]
        }
      ]
    },
    {
      "cell_type": "code",
      "source": [
        "num1 = [39,45,66,93,90,78,67,87,89,93,25,59,49,91]\n",
        "num1"
      ],
      "metadata": {
        "colab": {
          "base_uri": "https://localhost:8080/"
        },
        "id": "lUb_YI-xv5Be",
        "outputId": "22079293-15da-4857-d0e8-0e0f7dae5834"
      },
      "execution_count": 22,
      "outputs": [
        {
          "output_type": "execute_result",
          "data": {
            "text/plain": [
              "[39, 45, 66, 93, 90, 78, 67, 87, 89, 93, 25, 59, 49, 91]"
            ]
          },
          "metadata": {},
          "execution_count": 22
        }
      ]
    },
    {
      "cell_type": "code",
      "source": [
        "h = []\n",
        "for i in num1:\n",
        "  a = str(i)\n",
        "  b = a.replace(\"9\",\"1\")\n",
        "  c = int(b)\n",
        "  h.append(c)\n",
        "h"
      ],
      "metadata": {
        "colab": {
          "base_uri": "https://localhost:8080/"
        },
        "id": "eDRwLAwyxZIZ",
        "outputId": "109b9ac8-72b5-403a-9580-14fb76a05f0d"
      },
      "execution_count": 29,
      "outputs": [
        {
          "output_type": "execute_result",
          "data": {
            "text/plain": [
              "[31, 45, 66, 13, 10, 78, 67, 87, 81, 13, 25, 51, 41, 11]"
            ]
          },
          "metadata": {},
          "execution_count": 29
        }
      ]
    },
    {
      "cell_type": "code",
      "source": [],
      "metadata": {
        "id": "1ks5NsXhycl0"
      },
      "execution_count": null,
      "outputs": []
    }
  ]
}