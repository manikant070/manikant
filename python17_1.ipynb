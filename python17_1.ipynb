{
  "nbformat": 4,
  "nbformat_minor": 0,
  "metadata": {
    "colab": {
      "provenance": [],
      "authorship_tag": "ABX9TyNM8K/x4JQQSK+1RvXVcm8v",
      "include_colab_link": true
    },
    "kernelspec": {
      "name": "python3",
      "display_name": "Python 3"
    },
    "language_info": {
      "name": "python"
    }
  },
  "cells": [
    {
      "cell_type": "markdown",
      "metadata": {
        "id": "view-in-github",
        "colab_type": "text"
      },
      "source": [
        "<a href=\"https://colab.research.google.com/github/manikant070/manikant/blob/main/python17_1.ipynb\" target=\"_parent\"><img src=\"https://colab.research.google.com/assets/colab-badge.svg\" alt=\"Open In Colab\"/></a>"
      ]
    },
    {
      "cell_type": "code",
      "execution_count": 1,
      "metadata": {
        "id": "9o97XVFlAsvK"
      },
      "outputs": [],
      "source": [
        "import numpy as np"
      ]
    },
    {
      "cell_type": "code",
      "source": [
        "d = np.array([10,40,50,30,70])\n",
        "d"
      ],
      "metadata": {
        "colab": {
          "base_uri": "https://localhost:8080/"
        },
        "id": "kfTbmT39CNCa",
        "outputId": "d4282d76-ec20-4a46-e8d8-a0bbed7ee1f8"
      },
      "execution_count": 2,
      "outputs": [
        {
          "output_type": "execute_result",
          "data": {
            "text/plain": [
              "array([10, 40, 50, 30, 70])"
            ]
          },
          "metadata": {},
          "execution_count": 2
        }
      ]
    },
    {
      "cell_type": "code",
      "source": [
        "np.mean(d)"
      ],
      "metadata": {
        "colab": {
          "base_uri": "https://localhost:8080/"
        },
        "id": "NTmNzOQHCVwO",
        "outputId": "aff2adb3-c5c6-4074-9f63-0550e171742c"
      },
      "execution_count": 4,
      "outputs": [
        {
          "output_type": "execute_result",
          "data": {
            "text/plain": [
              "40.0"
            ]
          },
          "metadata": {},
          "execution_count": 4
        }
      ]
    },
    {
      "cell_type": "code",
      "source": [
        "np.median(d)"
      ],
      "metadata": {
        "colab": {
          "base_uri": "https://localhost:8080/"
        },
        "id": "DyJdokmVCZJ_",
        "outputId": "241341bd-0dc4-41fa-cb5f-a830db9d50d0"
      },
      "execution_count": 5,
      "outputs": [
        {
          "output_type": "execute_result",
          "data": {
            "text/plain": [
              "40.0"
            ]
          },
          "metadata": {},
          "execution_count": 5
        }
      ]
    },
    {
      "cell_type": "code",
      "source": [
        "np.var(d)"
      ],
      "metadata": {
        "colab": {
          "base_uri": "https://localhost:8080/"
        },
        "id": "Y_OTO2WdChVb",
        "outputId": "f884785c-656b-4031-ef4f-3f169d3b5a40"
      },
      "execution_count": 7,
      "outputs": [
        {
          "output_type": "execute_result",
          "data": {
            "text/plain": [
              "400.0"
            ]
          },
          "metadata": {},
          "execution_count": 7
        }
      ]
    },
    {
      "cell_type": "code",
      "source": [
        "np.min(d)"
      ],
      "metadata": {
        "colab": {
          "base_uri": "https://localhost:8080/"
        },
        "id": "8IWOM69yCr--",
        "outputId": "56b2db21-3612-4f95-ccd1-42e62378b4dc"
      },
      "execution_count": 8,
      "outputs": [
        {
          "output_type": "execute_result",
          "data": {
            "text/plain": [
              "10"
            ]
          },
          "metadata": {},
          "execution_count": 8
        }
      ]
    },
    {
      "cell_type": "code",
      "source": [
        "np.max(d)"
      ],
      "metadata": {
        "colab": {
          "base_uri": "https://localhost:8080/"
        },
        "id": "ko-lLYK3DBz1",
        "outputId": "d106e682-aea0-4a91-b219-36a5afd43747"
      },
      "execution_count": 9,
      "outputs": [
        {
          "output_type": "execute_result",
          "data": {
            "text/plain": [
              "70"
            ]
          },
          "metadata": {},
          "execution_count": 9
        }
      ]
    },
    {
      "cell_type": "code",
      "source": [
        "np.quantile(d,0.25)#first np.quantile"
      ],
      "metadata": {
        "colab": {
          "base_uri": "https://localhost:8080/"
        },
        "id": "zD317OzMDYZD",
        "outputId": "f611f544-4f4f-40ba-a9bf-d295880e09bb"
      },
      "execution_count": 11,
      "outputs": [
        {
          "output_type": "execute_result",
          "data": {
            "text/plain": [
              "30.0"
            ]
          },
          "metadata": {},
          "execution_count": 11
        }
      ]
    },
    {
      "cell_type": "code",
      "source": [
        "np.quantile(d,0.50)#second np.quantile"
      ],
      "metadata": {
        "colab": {
          "base_uri": "https://localhost:8080/"
        },
        "id": "MDYtkragFgse",
        "outputId": "93ecff96-4db5-4645-b222-ed1333425669"
      },
      "execution_count": 12,
      "outputs": [
        {
          "output_type": "execute_result",
          "data": {
            "text/plain": [
              "40.0"
            ]
          },
          "metadata": {},
          "execution_count": 12
        }
      ]
    },
    {
      "cell_type": "code",
      "source": [
        "np.quantile(d,0.75)#third np.quantile"
      ],
      "metadata": {
        "colab": {
          "base_uri": "https://localhost:8080/"
        },
        "id": "G2JtgaavFvm5",
        "outputId": "2ae81446-1d89-43f1-937c-2ee7313b7b27"
      },
      "execution_count": 13,
      "outputs": [
        {
          "output_type": "execute_result",
          "data": {
            "text/plain": [
              "50.0"
            ]
          },
          "metadata": {},
          "execution_count": 13
        }
      ]
    },
    {
      "cell_type": "markdown",
      "source": [
        "np.random.rand("
      ],
      "metadata": {
        "id": "zcp4dDuqK7dB"
      }
    },
    {
      "cell_type": "code",
      "source": [
        "r=np.random.rand(5,3)\n",
        "r"
      ],
      "metadata": {
        "colab": {
          "base_uri": "https://localhost:8080/"
        },
        "id": "AN4XEKaBImQ2",
        "outputId": "06f05fe2-6f90-41da-b64d-2b61777fbd43"
      },
      "execution_count": 25,
      "outputs": [
        {
          "output_type": "execute_result",
          "data": {
            "text/plain": [
              "array([[0.01449199, 0.11379012, 0.29604801],\n",
              "       [0.66341123, 0.55940981, 0.05918693],\n",
              "       [0.48307221, 0.96162309, 0.32958067],\n",
              "       [0.71549787, 0.3021165 , 0.49047649],\n",
              "       [0.7969807 , 0.56954558, 0.72328796]])"
            ]
          },
          "metadata": {},
          "execution_count": 25
        }
      ]
    },
    {
      "cell_type": "code",
      "source": [
        "r.shape"
      ],
      "metadata": {
        "colab": {
          "base_uri": "https://localhost:8080/"
        },
        "id": "A9rtyrsELMJ1",
        "outputId": "8eacf798-9026-49e3-814b-861b90ccd123"
      },
      "execution_count": 26,
      "outputs": [
        {
          "output_type": "execute_result",
          "data": {
            "text/plain": [
              "(5, 3)"
            ]
          },
          "metadata": {},
          "execution_count": 26
        }
      ]
    },
    {
      "cell_type": "code",
      "source": [
        "r.ndim"
      ],
      "metadata": {
        "colab": {
          "base_uri": "https://localhost:8080/"
        },
        "id": "JoH0M5p0LV-l",
        "outputId": "9f64ca5e-a477-40a8-eef5-88517450f26c"
      },
      "execution_count": 27,
      "outputs": [
        {
          "output_type": "execute_result",
          "data": {
            "text/plain": [
              "2"
            ]
          },
          "metadata": {},
          "execution_count": 27
        }
      ]
    },
    {
      "cell_type": "code",
      "source": [
        "p=np.random.rand(5,3,2)\n",
        "p"
      ],
      "metadata": {
        "colab": {
          "base_uri": "https://localhost:8080/"
        },
        "id": "nhlq7Kr8La23",
        "outputId": "06b9711d-49a2-4357-c8ee-54c7f6ad2443"
      },
      "execution_count": 29,
      "outputs": [
        {
          "output_type": "execute_result",
          "data": {
            "text/plain": [
              "array([[[0.04591447, 0.18061925],\n",
              "        [0.35169123, 0.74361366],\n",
              "        [0.16773932, 0.88570591]],\n",
              "\n",
              "       [[0.23061242, 0.22060686],\n",
              "        [0.77981969, 0.79458206],\n",
              "        [0.50620123, 0.82861214]],\n",
              "\n",
              "       [[0.9321017 , 0.24522899],\n",
              "        [0.36810862, 0.30975351],\n",
              "        [0.82268287, 0.91395297]],\n",
              "\n",
              "       [[0.16108823, 0.72985019],\n",
              "        [0.37880916, 0.53663697],\n",
              "        [0.36836798, 0.17781018]],\n",
              "\n",
              "       [[0.24779972, 0.9693592 ],\n",
              "        [0.50221428, 0.64293221],\n",
              "        [0.66692132, 0.10924631]]])"
            ]
          },
          "metadata": {},
          "execution_count": 29
        }
      ]
    },
    {
      "cell_type": "code",
      "source": [
        "p.shape\n"
      ],
      "metadata": {
        "colab": {
          "base_uri": "https://localhost:8080/"
        },
        "id": "tBGB6ffcMMYu",
        "outputId": "0baac1e0-6f41-4fd2-c9c9-990844a5e723"
      },
      "execution_count": 32,
      "outputs": [
        {
          "output_type": "execute_result",
          "data": {
            "text/plain": [
              "(5, 3, 2)"
            ]
          },
          "metadata": {},
          "execution_count": 32
        }
      ]
    },
    {
      "cell_type": "code",
      "source": [
        "p.size"
      ],
      "metadata": {
        "colab": {
          "base_uri": "https://localhost:8080/"
        },
        "id": "WQ7UfQ2kMVJB",
        "outputId": "f0f45b31-028c-494b-82be-39efacfd9348"
      },
      "execution_count": 33,
      "outputs": [
        {
          "output_type": "execute_result",
          "data": {
            "text/plain": [
              "30"
            ]
          },
          "metadata": {},
          "execution_count": 33
        }
      ]
    },
    {
      "cell_type": "code",
      "source": [
        "p.ndim"
      ],
      "metadata": {
        "colab": {
          "base_uri": "https://localhost:8080/"
        },
        "id": "HipA1CQqMak8",
        "outputId": "5ccb31e9-110c-4d53-930b-c7dcad496dee"
      },
      "execution_count": 36,
      "outputs": [
        {
          "output_type": "execute_result",
          "data": {
            "text/plain": [
              "3"
            ]
          },
          "metadata": {},
          "execution_count": 36
        }
      ]
    },
    {
      "cell_type": "code",
      "source": [
        "b=np.random.randn(5,3)    #-3 to +3 standard normal data in randn\n",
        "b"
      ],
      "metadata": {
        "colab": {
          "base_uri": "https://localhost:8080/"
        },
        "id": "Jx8YJTwwMdOp",
        "outputId": "972d24e4-5b03-4d97-dbf1-861dbc0ca1d8"
      },
      "execution_count": 39,
      "outputs": [
        {
          "output_type": "execute_result",
          "data": {
            "text/plain": [
              "array([[ 0.0345861 ,  0.08756037,  2.95126235],\n",
              "       [-0.77116641,  0.38570315, -1.58920013],\n",
              "       [ 0.16016845, -0.37993069, -0.22138164],\n",
              "       [ 3.45469383, -0.75661   , -0.15260524],\n",
              "       [-0.27182908,  0.47727711,  0.52525969]])"
            ]
          },
          "metadata": {},
          "execution_count": 39
        }
      ]
    },
    {
      "cell_type": "code",
      "source": [
        "r"
      ],
      "metadata": {
        "colab": {
          "base_uri": "https://localhost:8080/"
        },
        "id": "n3PgeaW1MmVf",
        "outputId": "44cc7275-a77b-4c4c-cf52-f4691394faf2"
      },
      "execution_count": 40,
      "outputs": [
        {
          "output_type": "execute_result",
          "data": {
            "text/plain": [
              "array([[-1.16169093,  1.135307  , -0.08672147],\n",
              "       [-1.20649918,  0.21775771, -1.11944005],\n",
              "       [-1.40519669,  0.22914479, -0.22132714],\n",
              "       [ 1.08984811, -0.80084633, -1.13444736],\n",
              "       [ 0.35060047, -0.59227869, -1.04988158]])"
            ]
          },
          "metadata": {},
          "execution_count": 40
        }
      ]
    },
    {
      "cell_type": "code",
      "source": [
        "w=np.random.normal(5,3,(2,3))\n",
        "w"
      ],
      "metadata": {
        "colab": {
          "base_uri": "https://localhost:8080/"
        },
        "id": "NhurDBVXMqXz",
        "outputId": "961b7dbe-abaa-4048-b652-c564a31e21bf"
      },
      "execution_count": 44,
      "outputs": [
        {
          "output_type": "execute_result",
          "data": {
            "text/plain": [
              "array([[ 2.37188485,  3.34020794,  7.12546774],\n",
              "       [ 1.88193168, -1.31296503,  6.43250011]])"
            ]
          },
          "metadata": {},
          "execution_count": 44
        }
      ]
    },
    {
      "cell_type": "code",
      "source": [
        "np.random.randint(35,86,(5,5))"
      ],
      "metadata": {
        "colab": {
          "base_uri": "https://localhost:8080/"
        },
        "id": "KNVizqrMNNOz",
        "outputId": "523af34d-afd1-4c69-c08a-146f59d58a33"
      },
      "execution_count": 48,
      "outputs": [
        {
          "output_type": "execute_result",
          "data": {
            "text/plain": [
              "array([[48, 85, 61, 69, 38],\n",
              "       [35, 79, 62, 76, 39],\n",
              "       [72, 75, 66, 47, 50],\n",
              "       [84, 62, 52, 70, 40],\n",
              "       [55, 59, 58, 51, 72]])"
            ]
          },
          "metadata": {},
          "execution_count": 48
        }
      ]
    },
    {
      "cell_type": "code",
      "source": [],
      "metadata": {
        "id": "2VhdQmvpOZHl"
      },
      "execution_count": 46,
      "outputs": []
    }
  ]
}