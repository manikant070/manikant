{
  "nbformat": 4,
  "nbformat_minor": 0,
  "metadata": {
    "colab": {
      "provenance": [],
      "authorship_tag": "ABX9TyNr8Em0POXbgTXLPUKW+KmN",
      "include_colab_link": true
    },
    "kernelspec": {
      "name": "python3",
      "display_name": "Python 3"
    },
    "language_info": {
      "name": "python"
    }
  },
  "cells": [
    {
      "cell_type": "markdown",
      "metadata": {
        "id": "view-in-github",
        "colab_type": "text"
      },
      "source": [
        "<a href=\"https://colab.research.google.com/github/manikant070/manikant/blob/main/python09.ipynb\" target=\"_parent\"><img src=\"https://colab.research.google.com/assets/colab-badge.svg\" alt=\"Open In Colab\"/></a>"
      ]
    },
    {
      "cell_type": "code",
      "execution_count": 3,
      "metadata": {
        "colab": {
          "base_uri": "https://localhost:8080/"
        },
        "id": "Dyb74Y8PyT2a",
        "outputId": "d14faed3-9dd0-4073-8d01-4913becda003"
      },
      "outputs": [
        {
          "output_type": "stream",
          "name": "stdout",
          "text": [
            "Enter a number: 5\n",
            "Odd\n"
          ]
        }
      ],
      "source": [
        "x = int(input(\"Enter a number: \"))\n",
        "if x%2==0:\n",
        "  print(\"Even\")\n",
        "else:\n",
        "  print(\"Odd\")"
      ]
    },
    {
      "cell_type": "code",
      "source": [
        "x = 15\n",
        "if x>0:\n",
        "  print(\"Pos\")\n",
        "  if x>20:\n",
        "    print(\"M\")\n",
        "  elif x>10:\n",
        "    print(\"P\")\n",
        "  elif x<10:\n",
        "    print(\"K\")\n",
        "  else:\n",
        "    print(\"T\")\n",
        "elif x<0:\n",
        "  print(\"Neg\")\n",
        "\n",
        "  if x<-20:\n",
        "    print(\"Q\")\n",
        "  elif x>-10:\n",
        "    print(\"C\")\n",
        "  elif x>-30:\n",
        "    print(\"Z\")\n",
        "\n",
        "else:\n",
        "  print(\"Zero\")"
      ],
      "metadata": {
        "colab": {
          "base_uri": "https://localhost:8080/"
        },
        "id": "8ELy8awb0h4u",
        "outputId": "fdd8d4cc-02a9-458c-fcb5-0565d6a5846b"
      },
      "execution_count": 13,
      "outputs": [
        {
          "output_type": "stream",
          "name": "stdout",
          "text": [
            "Pos\n",
            "P\n"
          ]
        }
      ]
    },
    {
      "cell_type": "code",
      "source": [
        "x = str(input(\"Enter a string:\"))\n",
        "if x[0]==\"t\" or x[0]==\"T\":\n",
        "  print(\"yes\")\n",
        "elif x[0]==\"m\" or x[0]==\"M\":\n",
        "    print(\"yes\")\n",
        "elif x[0]==\"s\" or x[0]==\"S\":\n",
        "    print(\"yes\")\n",
        "else:\n",
        "  print(\"no\")"
      ],
      "metadata": {
        "colab": {
          "base_uri": "https://localhost:8080/"
        },
        "id": "GWCEdX9W5AwB",
        "outputId": "53baa244-d974-4b5c-c00c-432d8a48460d"
      },
      "execution_count": 26,
      "outputs": [
        {
          "output_type": "stream",
          "name": "stdout",
          "text": [
            "Enter a string:mumbai\n",
            "yes\n"
          ]
        }
      ]
    },
    {
      "cell_type": "code",
      "source": [
        "x = str(input(\"name:\"))\n",
        "if x[0].lower() in (\"t\",\"m\",\"s\"):\n",
        "  print(\"yes\")\n",
        "else:\n",
        "  print(\"no\")"
      ],
      "metadata": {
        "colab": {
          "base_uri": "https://localhost:8080/"
        },
        "id": "QkY3SVuz8Ci4",
        "outputId": "7317aaa7-3d89-4fe7-a727-921d40c70d56"
      },
      "execution_count": 29,
      "outputs": [
        {
          "output_type": "stream",
          "name": "stdout",
          "text": [
            "name:telangana\n",
            "yes\n"
          ]
        }
      ]
    },
    {
      "cell_type": "code",
      "source": [],
      "metadata": {
        "id": "Ex5-gupQAr8R"
      },
      "execution_count": null,
      "outputs": []
    }
  ]
}