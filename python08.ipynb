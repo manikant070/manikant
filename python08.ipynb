{
  "nbformat": 4,
  "nbformat_minor": 0,
  "metadata": {
    "colab": {
      "provenance": [],
      "authorship_tag": "ABX9TyMMkSzkaAbwuei1SzzOJ5TF",
      "include_colab_link": true
    },
    "kernelspec": {
      "name": "python3",
      "display_name": "Python 3"
    },
    "language_info": {
      "name": "python"
    }
  },
  "cells": [
    {
      "cell_type": "markdown",
      "metadata": {
        "id": "view-in-github",
        "colab_type": "text"
      },
      "source": [
        "<a href=\"https://colab.research.google.com/github/manikant070/manikant/blob/main/python08.ipynb\" target=\"_parent\"><img src=\"https://colab.research.google.com/assets/colab-badge.svg\" alt=\"Open In Colab\"/></a>"
      ]
    },
    {
      "cell_type": "code",
      "execution_count": 15,
      "metadata": {
        "colab": {
          "base_uri": "https://localhost:8080/"
        },
        "id": "0X7LM-49n3eX",
        "outputId": "750e5fd2-41a4-41cb-9e5c-04888419885d"
      },
      "outputs": [
        {
          "output_type": "stream",
          "name": "stdout",
          "text": [
            "{'mani': 89, 'k': 25}\n"
          ]
        }
      ],
      "source": [
        "d = {\n",
        "    \"mani\":89,\n",
        "    \"k\":25\n",
        "}\n",
        "print(d)"
      ]
    },
    {
      "cell_type": "code",
      "source": [
        "m = {\n",
        "    100:65,12:56\n",
        "}\n",
        "print(m)"
      ],
      "metadata": {
        "colab": {
          "base_uri": "https://localhost:8080/"
        },
        "id": "MhJTqGE5qHU7",
        "outputId": "773246b1-a05b-419f-c801-c343baf7a37f"
      },
      "execution_count": 21,
      "outputs": [
        {
          "output_type": "stream",
          "name": "stdout",
          "text": [
            "{100: 65, 12: 56}\n"
          ]
        }
      ]
    },
    {
      "cell_type": "code",
      "source": [
        "m[100]=66\n",
        "print(m)"
      ],
      "metadata": {
        "colab": {
          "base_uri": "https://localhost:8080/"
        },
        "id": "lQVw82m9qHl8",
        "outputId": "c5ff9850-e461-4339-e8c2-5d4da2fcd293"
      },
      "execution_count": 4,
      "outputs": [
        {
          "output_type": "stream",
          "name": "stdout",
          "text": [
            "{100: 66, 12: 56}\n"
          ]
        }
      ]
    },
    {
      "cell_type": "code",
      "source": [
        "d.keys()"
      ],
      "metadata": {
        "colab": {
          "base_uri": "https://localhost:8080/"
        },
        "id": "nHOsOI4Qq2aV",
        "outputId": "9033bd5e-9a88-41a7-d06b-d267a23385d5"
      },
      "execution_count": 5,
      "outputs": [
        {
          "output_type": "execute_result",
          "data": {
            "text/plain": [
              "dict_keys(['mani', 'k'])"
            ]
          },
          "metadata": {},
          "execution_count": 5
        }
      ]
    },
    {
      "cell_type": "code",
      "source": [
        "d.update({103:956})\n",
        "print(d)"
      ],
      "metadata": {
        "colab": {
          "base_uri": "https://localhost:8080/"
        },
        "id": "UaBlYEvZq2kG",
        "outputId": "ebf1ac34-9ff9-48d4-fc2c-3344a3e56b6b"
      },
      "execution_count": 6,
      "outputs": [
        {
          "output_type": "stream",
          "name": "stdout",
          "text": [
            "{'mani': 89, 'k': 25, 103: 956}\n"
          ]
        }
      ]
    },
    {
      "cell_type": "code",
      "source": [
        "d[106]=4000\n",
        "print(d)"
      ],
      "metadata": {
        "colab": {
          "base_uri": "https://localhost:8080/"
        },
        "id": "Gzg5E84hq2nh",
        "outputId": "c416e9cc-6e54-40bb-d68b-d2f396c216a9"
      },
      "execution_count": 7,
      "outputs": [
        {
          "output_type": "stream",
          "name": "stdout",
          "text": [
            "{'mani': 89, 'k': 25, 103: 956, 106: 4000}\n"
          ]
        }
      ]
    },
    {
      "cell_type": "code",
      "source": [
        "n = int(input(\"Enter a positive number:\"))\n",
        "def mani():\n",
        "  if n%2==0:\n",
        "    print(n*m)\n",
        "  else:\n",
        "    print(\"not a prime\")\n",
        "mani()"
      ],
      "metadata": {
        "colab": {
          "base_uri": "https://localhost:8080/"
        },
        "id": "8yNmBE_Xr80i",
        "outputId": "2da0a51a-5e47-438f-8148-b7be1de402c9"
      },
      "execution_count": 12,
      "outputs": [
        {
          "output_type": "stream",
          "name": "stdout",
          "text": [
            "Enter a positive number:6\n",
            "36\n"
          ]
        }
      ]
    },
    {
      "cell_type": "code",
      "source": [
        "d[101] ={50:[7,8,9,10],\"apple\":(20,10,70,[90,180,270])},\n",
        "d"
      ],
      "metadata": {
        "colab": {
          "base_uri": "https://localhost:8080/"
        },
        "id": "YRKy7BqFsq67",
        "outputId": "8c588365-25cc-4ec3-b328-bb856bd91c95"
      },
      "execution_count": 18,
      "outputs": [
        {
          "output_type": "execute_result",
          "data": {
            "text/plain": [
              "{100: 65,\n",
              " 12: 56,\n",
              " 101: ({50: [7, 8, 9, 10], 'apple': (20, 10, 70, [90, 180, 270])},)}"
            ]
          },
          "metadata": {},
          "execution_count": 18
        }
      ]
    },
    {
      "cell_type": "code",
      "source": [
        "d[105]={\"a\":{30,50,70,},\"b\":(1000,5000,7000,9000),\"c\":[\"k\",{\"L\":[11,22],\"M\":(77,88)}]}\n",
        "d"
      ],
      "metadata": {
        "colab": {
          "base_uri": "https://localhost:8080/"
        },
        "id": "FShntaUA0kPa",
        "outputId": "a8b2ad2d-30bb-46a2-e6aa-f59ef57a5489"
      },
      "execution_count": 32,
      "outputs": [
        {
          "output_type": "execute_result",
          "data": {
            "text/plain": [
              "{100: 65,\n",
              " 12: 56,\n",
              " 101: ({50: [7, 8, 9, 10], 'apple': (20, 10, 70, [90, 180, 270])},),\n",
              " 105: {'a': {30, 50, 70},\n",
              "  'b': (1000, 5000, 7000, 9000),\n",
              "  'c': ['k', {'L': [11, 22], 'M': (77, 88)}]}}"
            ]
          },
          "metadata": {},
          "execution_count": 32
        }
      ]
    },
    {
      "cell_type": "code",
      "source": [
        "d[101][\"apple\"][3][1]"
      ],
      "metadata": {
        "colab": {
          "base_uri": "https://localhost:8080/",
          "height": 144
        },
        "id": "SB434WII3JPd",
        "outputId": "ef4a9fb2-9c67-40d8-aaff-56271dff494f"
      },
      "execution_count": 36,
      "outputs": [
        {
          "output_type": "error",
          "ename": "TypeError",
          "evalue": "tuple indices must be integers or slices, not str",
          "traceback": [
            "\u001b[0;31m---------------------------------------------------------------------------\u001b[0m",
            "\u001b[0;31mTypeError\u001b[0m                                 Traceback (most recent call last)",
            "\u001b[0;32m<ipython-input-36-ca9c38edc14d>\u001b[0m in \u001b[0;36m<cell line: 1>\u001b[0;34m()\u001b[0m\n\u001b[0;32m----> 1\u001b[0;31m \u001b[0md\u001b[0m\u001b[0;34m[\u001b[0m\u001b[0;36m101\u001b[0m\u001b[0;34m]\u001b[0m\u001b[0;34m[\u001b[0m\u001b[0;34m\"apple\"\u001b[0m\u001b[0;34m]\u001b[0m\u001b[0;34m[\u001b[0m\u001b[0;36m3\u001b[0m\u001b[0;34m]\u001b[0m\u001b[0;34m[\u001b[0m\u001b[0;36m1\u001b[0m\u001b[0;34m]\u001b[0m\u001b[0;34m\u001b[0m\u001b[0;34m\u001b[0m\u001b[0m\n\u001b[0m",
            "\u001b[0;31mTypeError\u001b[0m: tuple indices must be integers or slices, not str"
          ]
        }
      ]
    },
    {
      "cell_type": "code",
      "source": [],
      "metadata": {
        "id": "uRAIxdw83kKn"
      },
      "execution_count": null,
      "outputs": []
    }
  ]
}